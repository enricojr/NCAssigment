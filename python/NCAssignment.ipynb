{
 "cells": [
  {
   "cell_type": "markdown",
   "id": "d07578c4-ee25-45f5-8aae-e14b73a8137e",
   "metadata": {},
   "source": [
    "# NC Assignment: Challenge for Data Scientist\n",
    "This is the notebook I used to analyze the sample data provided by NC. Each step of the analysis is described.\n",
    "\n",
    "## Environment\n",
    "The python environment for running this notebook has been setup in anaconda. The environment has been exported in a file called ```environment.yml```, which you can use to re-generate an exact copy of the working environment.\n",
    "\n",
    "## Analysis\n",
    "\n",
    "We start off by loading the input data into a pandas dataframe:"
   ]
  },
  {
   "cell_type": "code",
   "execution_count": 1,
   "id": "f02a45ad-ae9c-4cb6-b80c-c72bd4f373fa",
   "metadata": {},
   "outputs": [],
   "source": [
    "import pandas as pd\n",
    "\n",
    "dataFilePath = '../../data/ncdatachallenge-2021-v1-1-.csv'\n",
    "\n",
    "df = pd.read_csv(dataFilePath)"
   ]
  },
  {
   "cell_type": "markdown",
   "id": "ed54c007-37c4-4ca1-889d-de3f1584e230",
   "metadata": {},
   "source": [
    "### First and second questions: probability and time of pregnancy\n",
    "The goal is to answer the following questions:\n",
    "1. What is the chance of getting pregnant within 13 cycles?\n",
    "2. How long does it usually take to get pregnant?\n",
    "   \n",
    "To do so, I can focus on just two of the features that are available in the dataset: ```outcome``` and ```n_cycles_trying```. A quick check tells me that none of the two columns contain NaN values:"
   ]
  },
  {
   "cell_type": "code",
   "execution_count": 13,
   "id": "0aece0d5-d0e3-4652-bd36-512384a88d98",
   "metadata": {},
   "outputs": [
    {
     "name": "stdout",
     "output_type": "stream",
     "text": [
      "No NaN value in column outcome\n",
      "No NaN value in column n_cycles_trying\n"
     ]
    }
   ],
   "source": [
    "if df['outcome'].isna().any() == False:\n",
    "    print(f'No NaN value in column outcome')\n",
    "if df['n_cycles_trying'].isna().any() == False:\n",
    "    print(f'No NaN value in column n_cycles_trying')"
   ]
  },
  {
   "cell_type": "markdown",
   "id": "442d9be7-7914-4cd2-8103-b3e147302dd3",
   "metadata": {},
   "source": [
    "This means I can use all the data contained in these columns without any pre-processing.\n",
    "\n",
    "In the following cell, I am going to build two histograms, representing the distributions of the time women take to attempt to conceive (in units of number of menstrual cycles). In one histogram I collect the data referring to women who eventually got pregnant, the other refers to women who did not get pregnant."
   ]
  },
  {
   "cell_type": "code",
   "execution_count": 15,
   "id": "cca2d853-e769-4261-bae9-feafa13cc5ea",
   "metadata": {},
   "outputs": [
    {
     "data": {
      "image/png": "[encoded data removed]",
      "text/plain": [
       "<Figure size 1000x400 with 2 Axes>"
      ]
     },
     "metadata": {},
     "output_type": "display_data"
    }
   ],
   "source": [
    "condition_pregnant = df['outcome'] == 'pregnant'\n",
    "n_cycles_pregnant = df.loc[condition_pregnant, 'n_cycles_trying']\n",
    "\n",
    "condition_not_pregnant = df['outcome'] == 'not_pregnant'\n",
    "n_cycles_not_pregnant = df.loc[condition_not_pregnant, 'n_cycles_trying']\n",
    "\n",
    "import matplotlib.pyplot as plt\n",
    "\n",
    "fig, axes = plt.subplots(nrows=1, ncols=2, figsize=(10, 4))\n",
    "\n",
    "axes[0].hist(n_cycles_pregnant, bins=range(min(n_cycles_pregnant), max(n_cycles_pregnant) + 1), edgecolor='black')\n",
    "axes[0].set_xlabel('n cycles')\n",
    "axes[0].set_ylabel('Frequency')\n",
    "axes[0].set_title('Pregnant')\n",
    "\n",
    "axes[1].hist(n_cycles_not_pregnant, bins=range(min(n_cycles_not_pregnant), max(n_cycles_not_pregnant) + 1), edgecolor='black')\n",
    "axes[1].set_xlabel('n cycles')\n",
    "axes[1].set_ylabel('Frequency')\n",
    "axes[1].set_title('Not pregnant')\n",
    "\n",
    "plt.savefig('plots/pregnancy_vs_cycles.pdf')\n",
    "\n",
    "plt.show()"
   ]
  },
  {
   "cell_type": "markdown",
   "id": "b7476edb-e344-4fbb-9203-f8c8719cbf3b",
   "metadata": {},
   "source": [
    "#### What is the chance of getting pregnant within 13 cycles?\n",
    "The first question cannot be answered if formulated as such. The reason is that the dataset provided is biased: women who do not reach pregnancy stop trying to conceive and thus stop logging data at a *subjective point in time*. In many cases, we may safely assume that they resume contraception. To understand this more clearly, take a look at the right plot. The plot shows the distribution of the duration of the attempts to conceive for women who eventually did *not* get pregnant. The proper way to interpret this plot is as the distribution of the time it takes a woman to give up attempting. These data do not provide us with any quantitative handle for calculating probabilities, as they are the outcome of a subjective determination: we would never know whether a woman who stopped attempting would eventually have become pregnant at some point. In other words, we cannot calculate the probability of getting pregnant no-matter-what. \n",
    "\n",
    "More formally, what the question is asking is to calculate the conditional probability $P(pregnant|ncycles<13)$, for which one would need to use Bayes' theorem:\n",
    "\\begin{equation}\n",
    "    P(pregnant|ncycles<13) = \\frac{P(ncycles<13|pregnant)P(pregnant)}{P(ncycles<13)}\n",
    "\\end{equation}\n",
    "However, $P(pregnant)$ cannot be calculated from the data. Neither $P(ncycles<13)$: this would be the measurement of the occurrence of less than 13 cycles in an *unbiased* dataset. Thus, we cannot answer the question *as it is*.\n",
    "\n",
    "The only form of the question we can answer is \"What is the chance of getting pregnant within 13 cycles, given that one eventually *does* get pregnant?\" (namely, one never gives up attempting). This would correspond to the $P(ncycles<13|pregnant)$ term in Bayes' equation above, and can be deduced from the left plot. The histogram shows that this chance is 100\\%: of all women who eventually got pregnant, the duration of the attempt had been less than 13 cycles."
   ]
  },
  {
   "cell_type": "markdown",
   "id": "b752e435-cd88-43b6-ad12-02f9093d12d8",
   "metadata": {},
   "source": [
    "#### How long does it usually take to get pregnant?\n",
    "\n",
    "To answer this question, we refer again to the distribution of the number of cycles shown in the left plot above, the one referring to women who eventyally got pregnant. Assuming that the two subsamples (outcome=pregnant and outcome=not\\_pregnant) are both well representative of the population, the shape of this distribution is unaffected by what happens to the same distribution for women who did not conceive (the right plot), save for statistical fluctuations. As a consequence, we may interpret its momenta as quantitative information on the conception time. Let's calculate mean, rms and median:"
   ]
  },
  {
   "cell_type": "code",
   "execution_count": 17,
   "id": "e354aa88-90b5-41cc-9c4e-065e971082b4",
   "metadata": {},
   "outputs": [
    {
     "name": "stdout",
     "output_type": "stream",
     "text": [
      "Mean time   = 3.3754355400696863 cycles\n",
      "Rms time    = 2.733305078852373 cycles\n",
      "Median time = 2.0 cycles\n"
     ]
    }
   ],
   "source": [
    "import numpy as np\n",
    "\n",
    "print(f'Mean time   = {n_cycles_pregnant.mean()} cycles')\n",
    "print(f'Rms time    = {np.sqrt(n_cycles_pregnant.var())} cycles')\n",
    "print(f'Median time = {n_cycles_pregnant.median()} cycles')"
   ]
  },
  {
   "cell_type": "markdown",
   "id": "65dbf36c-1cb7-4442-8dac-21d45eb48b0d",
   "metadata": {},
   "source": [
    "We may thus say that, upon using NC Plan Pregnancy, it takes an average of $3.4\\pm2.7$ cycles to finally conceive. As the distribution is highly asymmetric, it is of great use to mention its median, whose value is $2.0$: for 50\\% of women it takes less than 2 cycles to conceive."
   ]
  },
  {
   "cell_type": "markdown",
   "id": "beb70368-47c1-4f92-b11e-bfe6960c18ca",
   "metadata": {},
   "source": [
    "### Third question: What factors impact the time it takes to get pregnant?"
   ]
  },
  {
   "cell_type": "code",
   "execution_count": null,
   "id": "c0c81af3-4386-4cb0-99aa-b6d4a50493d2",
   "metadata": {},
   "outputs": [],
   "source": [
    "from sklearn.preprocessing import LabelEncoder\n",
    "\n",
    "alphanumerical_columns = ['country', 'been_pregnant_before', 'education', 'sleeping_pattern', 'outcome', 'regular_cycle']\n",
    "\n",
    "label_encoder = list()\n",
    "for column in alphanumerical_columns:\n",
    "    new_label_encoder = LabelEncoder()\n",
    "    df[column] = new_label_encoder.fit_transform(df[column])\n",
    "    label_encoder.append(new_label_encoder)\n",
    "\n",
    "for i in range(len(label_encoder)):    \n",
    "    print(f'{alphanumerical_columns[i]}: {label_encoder[i].classes_}')"
   ]
  },
  {
   "cell_type": "code",
   "execution_count": null,
   "id": "c3b69d9a-db26-4311-82c9-672c480a6d84",
   "metadata": {},
   "outputs": [],
   "source": [
    "print(df)"
   ]
  },
  {
   "cell_type": "code",
   "execution_count": null,
   "id": "9c1f41f6-928c-4d70-ad8f-11163b9e0e3c",
   "metadata": {},
   "outputs": [],
   "source": [
    "for column in df.columns:\n",
    "    value_counts = df[column].value_counts()\n",
    "    plt.hist(df[column], bins=10, edgecolor='black')\n",
    "    plt.xlabel(column)\n",
    "    plt.ylabel('Frequency')\n",
    "    plt.title(f'Histogram of {column}')\n",
    "    plt.show()"
   ]
  },
  {
   "cell_type": "code",
   "execution_count": null,
   "id": "4fd01e8b-19e8-4916-8b2f-dd0dd61e5693",
   "metadata": {},
   "outputs": [],
   "source": [
    "'''\n",
    "Reinserting NaN's\n",
    "'''\n",
    "\n",
    "for i in range(len(label_encoder)):    \n",
    "    nan_index = len(label_encoder[i].classes_)-1\n",
    "    value = label_encoder[i].classes_[nan_index]\n",
    "    print(nan_index, \" -> \", type(value))\n",
    "    if isinstance(value, float):\n",
    "        df.loc[df[alphanumerical_columns[i]] == nan_index, alphanumerical_columns[i]] = np.nan\n",
    "\n",
    "nan_counts = df.isna().sum()\n",
    "print(\"NaN counts in each column:\")\n",
    "print(nan_counts)\n",
    "\n",
    "print(df)"
   ]
  },
  {
   "cell_type": "code",
   "execution_count": null,
   "id": "cdf5cca5-d49b-4759-9b9d-a2cf4ef5993d",
   "metadata": {},
   "outputs": [],
   "source": [
    "'''\n",
    "Substituting NaN's with statistical sample\n",
    "'''\n",
    "\n",
    "for column in df.columns:\n",
    "    value_counts = df[column].dropna().value_counts()\n",
    "    #print(value_counts)\n",
    "    values = value_counts.index\n",
    "    probabilities = value_counts / value_counts.sum()\n",
    "    random_number = np.random.choice(values, p=probabilities)\n",
    "    #print('RRRRRRRRRRRRRRRRRRRRRRRRR = ', random_number)\n",
    "    df.loc[np.isnan(df[column]), column] = random_number\n",
    "'''\n",
    "    plt.hist(df[column], bins=10, edgecolor='black')\n",
    "    plt.xlabel(column)\n",
    "    plt.ylabel('Frequency')\n",
    "    plt.title(f'Histogram of {column}')\n",
    "    plt.show()\n",
    "    '''\n",
    "\n",
    "for column in df.columns:\n",
    "    plt.hist(df[column], bins=10, edgecolor='black')\n",
    "    plt.xlabel(column)\n",
    "    plt.ylabel('Frequency')\n",
    "    plt.title(f'Histogram of {column}')\n",
    "    plt.show()"
   ]
  },
  {
   "cell_type": "code",
   "execution_count": null,
   "id": "52aec2d7-8441-4f55-8f80-bb564dc554cd",
   "metadata": {},
   "outputs": [],
   "source": [
    "'''\n",
    "One-hot is better than label encoding, because there's no numerical contiguity in the values\n",
    "'''\n",
    "\n",
    "for column in alphanumerical_columns:\n",
    "    df = pd.get_dummies(df, columns=[column], prefix=column)\n",
    "    \n",
    "print(df)\n",
    "#df.to_csv('tmp.csv', index=False)"
   ]
  },
  {
   "cell_type": "code",
   "execution_count": null,
   "id": "3c7dfca0-76e8-4ee7-b526-aa9308600607",
   "metadata": {},
   "outputs": [],
   "source": [
    "import seaborn as sns\n",
    "\n",
    "correlation_matrix = df.corr()\n",
    "\n",
    "plt.figure(figsize=(8, 6))\n",
    "sns.heatmap(correlation_matrix, annot=False, cmap='coolwarm', fmt=\".2f\", linewidths=.5)\n",
    "\n",
    "plt.title('Correlation Matrix')\n",
    "plt.show()"
   ]
  },
  {
   "cell_type": "code",
   "execution_count": null,
   "id": "b71ccbf7-fb5d-46fe-a515-6963f3afa528",
   "metadata": {},
   "outputs": [],
   "source": [
    "'''\n",
    "THIS ONE IS USELESS AT THIS POINT\n",
    "'''\n",
    "\n",
    "condition = df['outcome_1'] == 1\n",
    "df_pregnant = df[condition]\n",
    "\n",
    "correlation_matrix = df_pregnant.corr()\n",
    "\n",
    "plt.figure(figsize=(8, 6))\n",
    "sns.heatmap(correlation_matrix, annot=False, cmap='coolwarm', fmt=\".2f\", linewidths=.5)\n",
    "\n",
    "plt.title('Correlation Matrix')\n",
    "plt.show()"
   ]
  },
  {
   "cell_type": "code",
   "execution_count": null,
   "id": "47b94a75-b73b-41d4-9f19-2900b2b82913",
   "metadata": {},
   "outputs": [],
   "source": [
    "regex_to_exclude = 'country*'\n",
    "filtered_df = df.filter(regex=f'^(?!{regex_to_exclude}).*$', axis=1)\n",
    "\n",
    "correlation_matrix = filtered_df.corr()\n",
    "\n",
    "plt.figure(figsize=(8, 6))\n",
    "sns.heatmap(correlation_matrix, annot=False, cmap='coolwarm', fmt=\".2f\", linewidths=.5)\n",
    "\n",
    "plt.title('Correlation Matrix')\n",
    "plt.show()\n",
    "\n",
    "print(correlation_matrix['outcome_1'])"
   ]
  }
 ],
 "metadata": {
  "kernelspec": {
   "display_name": "Python 3 (ipykernel)",
   "language": "python",
   "name": "python3"
  },
  "language_info": {
   "codemirror_mode": {
    "name": "ipython",
    "version": 3
   },
   "file_extension": ".py",
   "mimetype": "text/x-python",
   "name": "python",
   "nbconvert_exporter": "python",
   "pygments_lexer": "ipython3",
   "version": "3.10.4"
  }
 },
 "nbformat": 4,
 "nbformat_minor": 5
}
